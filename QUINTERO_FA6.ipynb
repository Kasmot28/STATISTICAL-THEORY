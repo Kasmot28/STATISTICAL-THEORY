{
 "cells": [
  {
   "cell_type": "markdown",
   "id": "def033d3",
   "metadata": {},
   "source": [
    "1.) (5 points). Table 1 shows a frequency distribution of grades on a final examination in\n",
    "college algebra. Find the quartiles of the distribution."
   ]
  },
  {
   "cell_type": "code",
   "execution_count": 19,
   "id": "52744f60",
   "metadata": {},
   "outputs": [
    {
     "name": "stdout",
     "output_type": "stream",
     "text": [
      "    Grade  Number of Students\n",
      "0  90-100                   9\n",
      "1   80-89                  32\n",
      "2   70-79                  43\n",
      "3   60-69                  21\n",
      "4   50-59                  11\n",
      "5   40-49                   3\n",
      "6   30-39                   1\n",
      "7   Total                 120\n",
      "\n",
      "Q1: 64.5, Q2: 74.5, Q3: 84.5\n"
     ]
    }
   ],
   "source": [
    "import pandas as pd\n",
    "\n",
    "df = pd.DataFrame({'Grade': [\"90-100\", \"80-89\", \"70-79\", \"60-69\", \"50-59\", \"40-49\", \"30-39\"], \n",
    "                   'Number of Students': [9, 32, 43, 21, 11, 3, 1]})\n",
    "\n",
    "row = pd.DataFrame({'Grade': ['Total'], 'Number of Students': [df['Number of Students'].sum()]})\n",
    "df = pd.concat([df, row], ignore_index=True)\n",
    "\n",
    "df\n",
    "\n",
    "grades = []\n",
    "for index, row in df.iterrows():\n",
    "    if row['Grade'] != 'Total':\n",
    "        lower, upper = map(int, row['Grade'].split('-'))\n",
    "        grades.extend([np.mean([lower, upper])] * row['Number of Students'])\n",
    "\n",
    "Q1 = np.percentile(grades, 25)\n",
    "Q2 = np.percentile(grades, 50)\n",
    "Q3 = np.percentile(grades, 75)\n",
    "\n",
    "\n",
    "print(df)\n",
    "print(f\"\\nQ1: {Q1}, Q2: {Q2}, Q3: {Q3}\")"
   ]
  },
  {
   "cell_type": "markdown",
   "id": "cfd83cf6",
   "metadata": {},
   "source": [
    "2.) (5 points). On a final examination in statistics, the mean grade of a group of 150\n",
    "students was 78 and the standard deviation was 8.0. In algebra, however, the mean final\n",
    "grade of the group was 73 and the standard deviation was 7.6. In which subject was\n",
    "there the greater (a) absolute dispersion and (b) relative dispersion?"
   ]
  },
  {
   "cell_type": "code",
   "execution_count": 45,
   "id": "0ccd7fcb",
   "metadata": {},
   "outputs": [
    {
     "name": "stdout",
     "output_type": "stream",
     "text": [
      "The absolute dispersion of Statistics is: 8.0\n",
      "The absolute dispersion of Algebra is: 7.6\n",
      "Therefore, the statistics has larger absolute dispersion than the subject of algebra\n",
      "\n",
      "The relative dispersion of Statistics is: 10.26\n",
      "The relative dispersion of Algebra is: 10.41\n",
      "Therefore, the Algebra has larger relative dispersion than Statistics \n"
     ]
    }
   ],
   "source": [
    "# (a) absolute dispersion\n",
    "\n",
    "#standard deviation in statistics\n",
    "standard_statistics = 8.0 \n",
    "\n",
    "#standard deviation in algebra \n",
    "standard_algebra = 7.6\n",
    "\n",
    "\n",
    "\n",
    "#(b) relative dispersion\n",
    "\n",
    "mean_statistics = 78\n",
    "mean_algebra = 73\n",
    "\n",
    "#formula for relative dispersion\n",
    "relative_dispersion_statistics = (standard_statistics/mean_statistics) * 100\n",
    "relative_dispersion_algebra = (standard_algebra/mean_algebra) * 100\n",
    "\n",
    "\n",
    "print(\"The absolute dispersion of Statistics is:\", standard_statistics)\n",
    "print(\"The absolute dispersion of Algebra is:\",standard_algebra)\n",
    "print(\"Therefore, the statistics has larger absolute dispersion than the subject of algebra\\n\")\n",
    "\n",
    "print(f\"The relative dispersion of Statistics is: {relative_dispersion_statistics:.2f}\")\n",
    "print(f\"The relative dispersion of Algebra is: {relative_dispersion_algebra:.2f}\")\n",
    "print(\"Therefore, the Algebra has larger relative dispersion than Statistics \")"
   ]
  },
  {
   "cell_type": "markdown",
   "id": "dfa13aae",
   "metadata": {},
   "source": [
    "3. (10 points). Prove that the mean and standard deviation of a set of standard scores are\n",
    "equal to 0 and 1, respectively. Use the following problem to illustrate this: Convert the\n",
    "set 6, 2, 8, 7, 5 into standard scores.\n"
   ]
  },
  {
   "cell_type": "code",
   "execution_count": 70,
   "id": "e21765ac",
   "metadata": {},
   "outputs": [
    {
     "name": "stdout",
     "output_type": "stream",
     "text": [
      "For 6, the standard score is: 0.19\n",
      "For 2, the standard score is: -1.75\n",
      "For 8, the standard score is: 1.17\n",
      "For 7, the standard score is: 0.68\n",
      "For 5, the standard score is: -0.29\n",
      "\n",
      "The mean of the original scores is: 5.60\n",
      "The standard deviation of the original scores is: 2.06\n",
      "The mean of the z-scores is: 0.00\n",
      "The standard deviation of the z-scores is: 1.00\n"
     ]
    }
   ],
   "source": [
    "import numpy as np\n",
    "\n",
    "# Create the initial array\n",
    "scores = np.array([6, 2, 8, 7, 5])\n",
    "\n",
    "mean = np.mean(scores)\n",
    "\n",
    "std_dev = np.std(scores, ddof=0)  # Population standard deviation\n",
    "\n",
    "z_scores = (scores - mean) / std_dev\n",
    "\n",
    "mean_z_score = np.mean(z_scores)\n",
    "std_z_score = np.std(z_scores, ddof=0)  # Should be 1 for z-scores\n",
    "\n",
    "for i, score in enumerate(scores):\n",
    "    print(f\"For {score}, the standard score is: {z_scores[i]:.2f}\")\n",
    "\n",
    "print(f\"\\nThe mean of the original scores is: {mean:.2f}\")\n",
    "print(f\"The standard deviation of the original scores is: {std_dev:.2f}\")\n",
    "print(f\"The mean of the z-scores is: {mean_z_score:.2f}\")\n",
    "print(f\"The standard deviation of the z-scores is: {std_z_score:.2f}\")\n",
    "\n",
    "\n"
   ]
  },
  {
   "cell_type": "markdown",
   "id": "edbbec6b",
   "metadata": {},
   "source": [
    "4. (5 points). Three masses are measured as 20.48, 35.97, and 62.34 g, with standard\n",
    "deviations of 0.21, 0.46, and 0.54 g, respectively. Find the (a) mean and (b) standard\n",
    "deviation of the sum of the masses."
   ]
  },
  {
   "cell_type": "code",
   "execution_count": 58,
   "id": "754438f8",
   "metadata": {},
   "outputs": [
    {
     "name": "stdout",
     "output_type": "stream",
     "text": [
      "The mean of the sum is: 118.79 g\n",
      "The Standard deviation of the sum is: 0.74 g\n"
     ]
    }
   ],
   "source": [
    "import math\n",
    "#masses \n",
    "m1 = 20.48\n",
    "m2 = 35.97\n",
    "m3 = 62.34\n",
    "\n",
    "#standard deviation\n",
    "std1 = 0.21\n",
    "std2 = 0.46\n",
    "std3 = 0.54\n",
    "\n",
    "#mean of the sum (masses)\n",
    "mean_masses = m1+m2+m3\n",
    "\n",
    "#calculating the standard deviation of the sum \n",
    "std_sum = (std1)**2 + (std2)**2 + (std3)**2\n",
    "total_variance = std_sum\n",
    "square_root = math.sqrt(std_sum)\n",
    "\n",
    "# mean of the sum and standard deviation of the sum\n",
    "print(f\"The mean of the sum is: {mean_masses:.2f} g\")\n",
    "print(f\"The Standard deviation of the sum is: {square_root:.2f} g\")"
   ]
  },
  {
   "cell_type": "markdown",
   "id": "e9241458",
   "metadata": {},
   "source": [
    "5.(10 points). The credit hour distribution at Metropolitan Technological College is as\n",
    "follows:\n",
    "x 6 9 12 15 18\n",
    "p(x) 0.1 0.2 0.4 0.2 0.1\n",
    "Find 𝜇 and 𝜎2 . Give the 25 (with replacement) possible samples of size 2, their means,\n",
    "and their probabilities.\n"
   ]
  },
  {
   "cell_type": "code",
   "execution_count": 64,
   "id": "fea0a02c",
   "metadata": {},
   "outputs": [
    {
     "name": "stdout",
     "output_type": "stream",
     "text": [
      "Mean: 12.000000000000002\n",
      "Variance: 10.8\n",
      "\n",
      "Sample Means and Probabilities:\n",
      "Mean: 6.0, Probability: 0.01\n",
      "Mean: 7.5, Probability: 0.04\n",
      "Mean: 9.0, Probability: 0.12\n",
      "Mean: 10.5, Probability: 0.20\n",
      "Mean: 12.0, Probability: 0.26\n",
      "Mean: 13.5, Probability: 0.20\n",
      "Mean: 15.0, Probability: 0.12\n",
      "Mean: 16.5, Probability: 0.04\n",
      "Mean: 18.0, Probability: 0.01\n",
      "For 6, the standard score is: 0.19\n",
      "For 2, the standard score is: -1.75\n",
      "For 8, the standard score is: 1.17\n",
      "For 7, the standard score is: 0.68\n",
      "For 5, the standard score is: -0.29\n"
     ]
    }
   ],
   "source": [
    "import itertools\n",
    "import numpy as np\n",
    "\n",
    "x = np.array([6, 9, 12, 15, 18])\n",
    "p = np.array([0.1, 0.2, 0.4, 0.2, 0.1])\n",
    "\n",
    "# Calculate mean \n",
    "mu = np.sum(x * p)\n",
    "\n",
    "# Calculate variance\n",
    "sigma_squared = np.sum(((x - mu)**2)*p)\n",
    "\n",
    "samples = list(itertools.product(x, repeat=2))\n",
    "\n",
    "sample_means = {}\n",
    "for sample in samples:\n",
    "    mean = np.mean(sample)\n",
    "    prob = p[x == sample[0]].item() * p[x == sample[1]].item()\n",
    "    if mean in sample_means:\n",
    "        sample_means[mean] += prob\n",
    "    else:\n",
    "        sample_means[mean] = prob\n",
    "\n",
    "# Print results\n",
    "print(f\"Mean: {mu}\")\n",
    "print(f\"Variance: {sigma_squared}\")\n",
    "print(\"\\nSample Means and Probabilities:\")\n",
    "for mean, prob in sample_means.items():\n",
    "    print(f\"Mean: {mean}, Probability: {prob:.2f}\")\n",
    "    \n",
    "\n"
   ]
  },
  {
   "cell_type": "code",
   "execution_count": null,
   "id": "07f334ef",
   "metadata": {},
   "outputs": [],
   "source": []
  }
 ],
 "metadata": {
  "kernelspec": {
   "display_name": "Python 3 (ipykernel)",
   "language": "python",
   "name": "python3"
  },
  "language_info": {
   "codemirror_mode": {
    "name": "ipython",
    "version": 3
   },
   "file_extension": ".py",
   "mimetype": "text/x-python",
   "name": "python",
   "nbconvert_exporter": "python",
   "pygments_lexer": "ipython3",
   "version": "3.9.13"
  }
 },
 "nbformat": 4,
 "nbformat_minor": 5
}
