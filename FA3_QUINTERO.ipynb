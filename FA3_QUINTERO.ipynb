{
 "cells": [
  {
   "cell_type": "code",
   "execution_count": 38,
   "id": "df2f6e5b-a2f5-4ba8-a66a-5cb8eb2c7994",
   "metadata": {},
   "outputs": [
    {
     "name": "stdout",
     "output_type": "stream",
     "text": [
      "Descriptive Statistics:\n",
      "Valid: 60.00\n",
      "Median: 57.00\n",
      "Mean: 59.17\n",
      "Std. Deviation: 22.21\n",
      "Variance: 493.33\n",
      "Skewness: 0.16\n",
      "Kurtosis: -1.24\n",
      "Minimum: 25.00\n",
      "Maximum: 99.00\n",
      "25th percentile: 37.75\n",
      "50th percentile: 57.00\n",
      "75th percentile: 76.00\n",
      "90th percentile: 89.20\n",
      "95th percentile: 94.10\n"
     ]
    }
   ],
   "source": [
    "import numpy as np\n",
    "import scipy.stats as stats\n",
    "\n",
    "scores = np.array([88, 45, 53, 86, 33, 86, 85, 30, 89, 53, 41, 96, 56, 38, 62,\n",
    "                   71, 51, 86, 68, 29, 28, 47, 33, 37, 25, 36, 33, 94, 73, 46,\n",
    "                   42, 34, 79, 72, 88, 99, 82, 62, 57, 42, 28, 55, 67, 62, 60,\n",
    "                   96, 61, 57, 75, 93, 34, 75, 53, 32, 28, 73, 51, 69, 91, 35])\n",
    "\n",
    "mode_result = stats.mode(scores)\n",
    "mean_value = np.mean(scores)\n",
    "median_value = np.median(scores)\n",
    "std_dev = np.std(scores, ddof=1)\n",
    "variance_value = np.var(scores, ddof=1)\n",
    "skewness_value = stats.skew(scores)\n",
    "kurtosis_value = stats.kurtosis(scores)\n",
    "min_value = np.min(scores)\n",
    "max_value = np.max(scores)\n",
    "q1_value = np.percentile(scores, 25)\n",
    "q3_value = np.percentile(scores, 75)\n",
    "d9_value = np.percentile(scores, 90)\n",
    "p95_value = np.percentile(scores, 95)\n",
    "\n",
    "table_output = {\n",
    "    'Valid': len(scores),\n",
    "    'Median': median_value,\n",
    "    'Mean': mean_value,\n",
    "    'Std. Deviation': std_dev,\n",
    "    'Variance': variance_value,\n",
    "    'Skewness': skewness_value,\n",
    "    'Kurtosis': kurtosis_value,\n",
    "    'Minimum': min_value,\n",
    "    'Maximum': max_value,\n",
    "    '25th percentile': q1_value,\n",
    "    '50th percentile': median_value,\n",
    "    '75th percentile': q3_value,\n",
    "    '90th percentile': d9_value,\n",
    "    '95th percentile': p95_value\n",
    "}\n",
    "\n",
    "print(\"Descriptive Statistics:\")\n",
    "for key, value in table_output.items():\n",
    "    print(f\"{key}: {value:.2f}\")\n",
    "\n"
   ]
  },
  {
   "cell_type": "code",
   "execution_count": null,
   "id": "38eaa14b-9dcd-4fc2-9859-3a4b57da9046",
   "metadata": {},
   "outputs": [],
   "source": []
  }
 ],
 "metadata": {
  "kernelspec": {
   "display_name": "Python 3 (ipykernel)",
   "language": "python",
   "name": "python3"
  },
  "language_info": {
   "codemirror_mode": {
    "name": "ipython",
    "version": 3
   },
   "file_extension": ".py",
   "mimetype": "text/x-python",
   "name": "python",
   "nbconvert_exporter": "python",
   "pygments_lexer": "ipython3",
   "version": "3.12.4"
  }
 },
 "nbformat": 4,
 "nbformat_minor": 5
}
