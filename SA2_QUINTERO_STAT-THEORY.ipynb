{
 "cells": [
  {
   "cell_type": "markdown",
   "id": "1c2a94a8-9ff6-4e9e-a04d-6f65557dfa61",
   "metadata": {},
   "source": [
    "<h1> LOADING THE DATASET</h1>"
   ]
  },
  {
   "cell_type": "code",
   "execution_count": 17,
   "id": "e8477a8c-6d58-4cd0-8d92-2aa3dbbc28f4",
   "metadata": {},
   "outputs": [
    {
     "data": {
      "text/html": [
       "<div>\n",
       "<style scoped>\n",
       "    .dataframe tbody tr th:only-of-type {\n",
       "        vertical-align: middle;\n",
       "    }\n",
       "\n",
       "    .dataframe tbody tr th {\n",
       "        vertical-align: top;\n",
       "    }\n",
       "\n",
       "    .dataframe thead th {\n",
       "        text-align: right;\n",
       "    }\n",
       "</style>\n",
       "<table border=\"1\" class=\"dataframe\">\n",
       "  <thead>\n",
       "    <tr style=\"text-align: right;\">\n",
       "      <th></th>\n",
       "      <th>AD_Status</th>\n",
       "      <th>Treatment</th>\n",
       "      <th>Training</th>\n",
       "      <th>Memory</th>\n",
       "    </tr>\n",
       "  </thead>\n",
       "  <tbody>\n",
       "    <tr>\n",
       "      <th>0</th>\n",
       "      <td>1</td>\n",
       "      <td>1</td>\n",
       "      <td>12</td>\n",
       "      <td>10</td>\n",
       "    </tr>\n",
       "    <tr>\n",
       "      <th>1</th>\n",
       "      <td>1</td>\n",
       "      <td>1</td>\n",
       "      <td>15</td>\n",
       "      <td>12</td>\n",
       "    </tr>\n",
       "    <tr>\n",
       "      <th>2</th>\n",
       "      <td>1</td>\n",
       "      <td>1</td>\n",
       "      <td>13</td>\n",
       "      <td>13</td>\n",
       "    </tr>\n",
       "    <tr>\n",
       "      <th>3</th>\n",
       "      <td>1</td>\n",
       "      <td>1</td>\n",
       "      <td>12</td>\n",
       "      <td>10</td>\n",
       "    </tr>\n",
       "    <tr>\n",
       "      <th>4</th>\n",
       "      <td>1</td>\n",
       "      <td>1</td>\n",
       "      <td>14</td>\n",
       "      <td>13</td>\n",
       "    </tr>\n",
       "    <tr>\n",
       "      <th>5</th>\n",
       "      <td>1</td>\n",
       "      <td>2</td>\n",
       "      <td>15</td>\n",
       "      <td>13</td>\n",
       "    </tr>\n",
       "    <tr>\n",
       "      <th>6</th>\n",
       "      <td>1</td>\n",
       "      <td>2</td>\n",
       "      <td>17</td>\n",
       "      <td>13</td>\n",
       "    </tr>\n",
       "    <tr>\n",
       "      <th>7</th>\n",
       "      <td>1</td>\n",
       "      <td>2</td>\n",
       "      <td>16</td>\n",
       "      <td>14</td>\n",
       "    </tr>\n",
       "    <tr>\n",
       "      <th>8</th>\n",
       "      <td>1</td>\n",
       "      <td>2</td>\n",
       "      <td>17</td>\n",
       "      <td>15</td>\n",
       "    </tr>\n",
       "    <tr>\n",
       "      <th>9</th>\n",
       "      <td>1</td>\n",
       "      <td>2</td>\n",
       "      <td>14</td>\n",
       "      <td>11</td>\n",
       "    </tr>\n",
       "    <tr>\n",
       "      <th>10</th>\n",
       "      <td>1</td>\n",
       "      <td>3</td>\n",
       "      <td>13</td>\n",
       "      <td>12</td>\n",
       "    </tr>\n",
       "    <tr>\n",
       "      <th>11</th>\n",
       "      <td>1</td>\n",
       "      <td>3</td>\n",
       "      <td>14</td>\n",
       "      <td>11</td>\n",
       "    </tr>\n",
       "    <tr>\n",
       "      <th>12</th>\n",
       "      <td>1</td>\n",
       "      <td>3</td>\n",
       "      <td>18</td>\n",
       "      <td>15</td>\n",
       "    </tr>\n",
       "    <tr>\n",
       "      <th>13</th>\n",
       "      <td>1</td>\n",
       "      <td>3</td>\n",
       "      <td>15</td>\n",
       "      <td>10</td>\n",
       "    </tr>\n",
       "    <tr>\n",
       "      <th>14</th>\n",
       "      <td>1</td>\n",
       "      <td>3</td>\n",
       "      <td>16</td>\n",
       "      <td>14</td>\n",
       "    </tr>\n",
       "    <tr>\n",
       "      <th>15</th>\n",
       "      <td>1</td>\n",
       "      <td>4</td>\n",
       "      <td>14</td>\n",
       "      <td>12</td>\n",
       "    </tr>\n",
       "    <tr>\n",
       "      <th>16</th>\n",
       "      <td>1</td>\n",
       "      <td>4</td>\n",
       "      <td>13</td>\n",
       "      <td>11</td>\n",
       "    </tr>\n",
       "    <tr>\n",
       "      <th>17</th>\n",
       "      <td>1</td>\n",
       "      <td>4</td>\n",
       "      <td>12</td>\n",
       "      <td>10</td>\n",
       "    </tr>\n",
       "    <tr>\n",
       "      <th>18</th>\n",
       "      <td>1</td>\n",
       "      <td>4</td>\n",
       "      <td>14</td>\n",
       "      <td>13</td>\n",
       "    </tr>\n",
       "    <tr>\n",
       "      <th>19</th>\n",
       "      <td>1</td>\n",
       "      <td>4</td>\n",
       "      <td>15</td>\n",
       "      <td>10</td>\n",
       "    </tr>\n",
       "    <tr>\n",
       "      <th>20</th>\n",
       "      <td>2</td>\n",
       "      <td>1</td>\n",
       "      <td>17</td>\n",
       "      <td>9</td>\n",
       "    </tr>\n",
       "    <tr>\n",
       "      <th>21</th>\n",
       "      <td>2</td>\n",
       "      <td>1</td>\n",
       "      <td>16</td>\n",
       "      <td>8</td>\n",
       "    </tr>\n",
       "    <tr>\n",
       "      <th>22</th>\n",
       "      <td>2</td>\n",
       "      <td>1</td>\n",
       "      <td>17</td>\n",
       "      <td>10</td>\n",
       "    </tr>\n",
       "    <tr>\n",
       "      <th>23</th>\n",
       "      <td>2</td>\n",
       "      <td>1</td>\n",
       "      <td>14</td>\n",
       "      <td>8</td>\n",
       "    </tr>\n",
       "    <tr>\n",
       "      <th>24</th>\n",
       "      <td>2</td>\n",
       "      <td>1</td>\n",
       "      <td>13</td>\n",
       "      <td>8</td>\n",
       "    </tr>\n",
       "    <tr>\n",
       "      <th>25</th>\n",
       "      <td>2</td>\n",
       "      <td>2</td>\n",
       "      <td>14</td>\n",
       "      <td>7</td>\n",
       "    </tr>\n",
       "    <tr>\n",
       "      <th>26</th>\n",
       "      <td>2</td>\n",
       "      <td>2</td>\n",
       "      <td>18</td>\n",
       "      <td>10</td>\n",
       "    </tr>\n",
       "    <tr>\n",
       "      <th>27</th>\n",
       "      <td>2</td>\n",
       "      <td>2</td>\n",
       "      <td>16</td>\n",
       "      <td>5</td>\n",
       "    </tr>\n",
       "    <tr>\n",
       "      <th>28</th>\n",
       "      <td>2</td>\n",
       "      <td>2</td>\n",
       "      <td>17</td>\n",
       "      <td>9</td>\n",
       "    </tr>\n",
       "    <tr>\n",
       "      <th>29</th>\n",
       "      <td>2</td>\n",
       "      <td>2</td>\n",
       "      <td>14</td>\n",
       "      <td>7</td>\n",
       "    </tr>\n",
       "    <tr>\n",
       "      <th>30</th>\n",
       "      <td>2</td>\n",
       "      <td>3</td>\n",
       "      <td>13</td>\n",
       "      <td>8</td>\n",
       "    </tr>\n",
       "    <tr>\n",
       "      <th>31</th>\n",
       "      <td>2</td>\n",
       "      <td>3</td>\n",
       "      <td>14</td>\n",
       "      <td>7</td>\n",
       "    </tr>\n",
       "    <tr>\n",
       "      <th>32</th>\n",
       "      <td>2</td>\n",
       "      <td>3</td>\n",
       "      <td>18</td>\n",
       "      <td>9</td>\n",
       "    </tr>\n",
       "    <tr>\n",
       "      <th>33</th>\n",
       "      <td>2</td>\n",
       "      <td>3</td>\n",
       "      <td>15</td>\n",
       "      <td>8</td>\n",
       "    </tr>\n",
       "    <tr>\n",
       "      <th>34</th>\n",
       "      <td>2</td>\n",
       "      <td>3</td>\n",
       "      <td>16</td>\n",
       "      <td>9</td>\n",
       "    </tr>\n",
       "    <tr>\n",
       "      <th>35</th>\n",
       "      <td>2</td>\n",
       "      <td>4</td>\n",
       "      <td>14</td>\n",
       "      <td>7</td>\n",
       "    </tr>\n",
       "    <tr>\n",
       "      <th>36</th>\n",
       "      <td>2</td>\n",
       "      <td>4</td>\n",
       "      <td>13</td>\n",
       "      <td>9</td>\n",
       "    </tr>\n",
       "    <tr>\n",
       "      <th>37</th>\n",
       "      <td>2</td>\n",
       "      <td>4</td>\n",
       "      <td>12</td>\n",
       "      <td>5</td>\n",
       "    </tr>\n",
       "    <tr>\n",
       "      <th>38</th>\n",
       "      <td>2</td>\n",
       "      <td>4</td>\n",
       "      <td>14</td>\n",
       "      <td>8</td>\n",
       "    </tr>\n",
       "    <tr>\n",
       "      <th>39</th>\n",
       "      <td>2</td>\n",
       "      <td>4</td>\n",
       "      <td>15</td>\n",
       "      <td>4</td>\n",
       "    </tr>\n",
       "  </tbody>\n",
       "</table>\n",
       "</div>"
      ],
      "text/plain": [
       "    AD_Status  Treatment  Training  Memory\n",
       "0           1          1        12      10\n",
       "1           1          1        15      12\n",
       "2           1          1        13      13\n",
       "3           1          1        12      10\n",
       "4           1          1        14      13\n",
       "5           1          2        15      13\n",
       "6           1          2        17      13\n",
       "7           1          2        16      14\n",
       "8           1          2        17      15\n",
       "9           1          2        14      11\n",
       "10          1          3        13      12\n",
       "11          1          3        14      11\n",
       "12          1          3        18      15\n",
       "13          1          3        15      10\n",
       "14          1          3        16      14\n",
       "15          1          4        14      12\n",
       "16          1          4        13      11\n",
       "17          1          4        12      10\n",
       "18          1          4        14      13\n",
       "19          1          4        15      10\n",
       "20          2          1        17       9\n",
       "21          2          1        16       8\n",
       "22          2          1        17      10\n",
       "23          2          1        14       8\n",
       "24          2          1        13       8\n",
       "25          2          2        14       7\n",
       "26          2          2        18      10\n",
       "27          2          2        16       5\n",
       "28          2          2        17       9\n",
       "29          2          2        14       7\n",
       "30          2          3        13       8\n",
       "31          2          3        14       7\n",
       "32          2          3        18       9\n",
       "33          2          3        15       8\n",
       "34          2          3        16       9\n",
       "35          2          4        14       7\n",
       "36          2          4        13       9\n",
       "37          2          4        12       5\n",
       "38          2          4        14       8\n",
       "39          2          4        15       4"
      ]
     },
     "execution_count": 17,
     "metadata": {},
     "output_type": "execute_result"
    }
   ],
   "source": [
    "import pandas as pd\n",
    "import numpy as np\n",
    "import scipy.stats as stats\n",
    "import statsmodels.api as sm\n",
    "import statsmodels.formula.api as smf\n",
    "import matplotlib.pyplot as plt\n",
    "import seaborn as sns\n",
    "\n",
    "data = pd.read_csv('mice.csv')\n",
    "data\n"
   ]
  },
  {
   "cell_type": "markdown",
   "id": "2058cccc-50c9-4105-83fb-0f5d9a51273e",
   "metadata": {},
   "source": [
    "<h1> CHECKING IF THERE IS SIGNIFICANT OUTLIER </h1>"
   ]
  },
  {
   "cell_type": "code",
   "execution_count": 5,
   "id": "20e6f809-df29-4874-ac65-fe96bdd9637f",
   "metadata": {},
   "outputs": [
    {
     "data": {
      "image/png": "[encoded data removed]",
      "text/plain": [
       "<Figure size 1000x600 with 1 Axes>"
      ]
     },
     "metadata": {},
     "output_type": "display_data"
    }
   ],
   "source": [
    "#checking if there is significant outliers\n",
    "plt.figure(figsize=(10,6))\n",
    "sns.boxplot(x=\"AD_Status\", y=\"Training\", hue=\"Treatment\", data=df)\n",
    "plt.title('Training Errors by AD Status and Treatment')\n",
    "plt.show()\n"
   ]
  },
  {
   "cell_type": "markdown",
   "id": "0a9f3e74-7da3-4122-89ae-30f7a5720beb",
   "metadata": {},
   "source": [
    "<h1> TESTING THE NORMALITY (USING SHAPIRO) </h1>"
   ]
  },
  {
   "cell_type": "code",
   "execution_count": 6,
   "id": "d5463416-ead9-4c09-9378-1de6e2ffa99d",
   "metadata": {},
   "outputs": [
    {
     "name": "stdout",
     "output_type": "stream",
     "text": [
      "Shapiro-Wilk Test for AD_Status=1, Treatment=1: p-value = 0.42114965351611855\n",
      "Shapiro-Wilk Test for AD_Status=1, Treatment=2: p-value = 0.42114965351612\n",
      "Shapiro-Wilk Test for AD_Status=1, Treatment=3: p-value = 0.9276364233495382\n",
      "Shapiro-Wilk Test for AD_Status=1, Treatment=4: p-value = 0.8139521277236892\n",
      "Shapiro-Wilk Test for AD_Status=2, Treatment=1: p-value = 0.2538464637612434\n",
      "Shapiro-Wilk Test for AD_Status=2, Treatment=2: p-value = 0.3772224660924305\n",
      "Shapiro-Wilk Test for AD_Status=2, Treatment=3: p-value = 0.9276364233495382\n",
      "Shapiro-Wilk Test for AD_Status=2, Treatment=4: p-value = 0.8139521277236892\n"
     ]
    }
   ],
   "source": [
    "# Check for normality with Shapiro-Wilk Test\n",
    "for status in df['AD_Status'].unique():\n",
    "    for treatment in df['Treatment'].unique():\n",
    "        group = df[(df['AD_Status'] == status) & (df['Treatment'] == treatment)]['Training']\n",
    "        stat, p_value = stats.shapiro(group)\n",
    "        print(f\"Shapiro-Wilk Test for AD_Status={status}, Treatment={treatment}: p-value = {p_value}\")\n"
   ]
  },
  {
   "cell_type": "markdown",
   "id": "81ecfdc6-756a-4ce6-b072-243447b00c6c",
   "metadata": {},
   "source": [
    "<h1> TESTING THE NORMALITY (USING LEVENE'S) </h1>"
   ]
  },
  {
   "cell_type": "code",
   "execution_count": 7,
   "id": "119222f6-ba4a-4ea2-a5ee-fd52f0a4c0ff",
   "metadata": {},
   "outputs": [
    {
     "name": "stdout",
     "output_type": "stream",
     "text": [
      "Levene's Test for AD_Status: p-value = 0.6638043901674353\n"
     ]
    }
   ],
   "source": [
    "# Levene's Test for Homogeneity of Variance\n",
    "from scipy.stats import levene\n",
    "\n",
    "stat, p_value = levene(df[df['AD_Status'] == 1]['Training'], df[df['AD_Status'] == 2]['Training'])\n",
    "print(f\"Levene's Test for AD_Status: p-value = {p_value}\")\n"
   ]
  },
  {
   "cell_type": "markdown",
   "id": "882b592a-5dcf-4d70-b56b-98887fe54edb",
   "metadata": {},
   "source": [
    "<h1> TWO FACTOR ANOVA </h1>"
   ]
  },
  {
   "cell_type": "code",
   "execution_count": 8,
   "id": "61acaab7-b34a-4763-b4e3-4bb6003fd7a7",
   "metadata": {},
   "outputs": [
    {
     "name": "stdout",
     "output_type": "stream",
     "text": [
      "                           sum_sq    df         F    PR(>F)\n",
      "C(AD_Status)                3.025   1.0  1.216080  0.278356\n",
      "C(Treatment)               28.275   3.0  3.788945  0.019678\n",
      "C(AD_Status):C(Treatment)   9.075   3.0  1.216080  0.319771\n",
      "Residual                   79.600  32.0       NaN       NaN\n"
     ]
    }
   ],
   "source": [
    "# Fit the ANOVA model\n",
    "model = smf.ols('Training ~ C(AD_Status) * C(Treatment)', data=df).fit()\n",
    "\n",
    "# Perform ANOVA\n",
    "anova_table = sm.stats.anova_lm(model, typ=2)\n",
    "print(anova_table)\n"
   ]
  },
  {
   "cell_type": "markdown",
   "id": "a5890fb9-ac88-4e4b-9c64-9e81e55fe108",
   "metadata": {},
   "source": [
    "<h1> POST-HOC TEST </h1>"
   ]
  },
  {
   "cell_type": "code",
   "execution_count": 9,
   "id": "f7dd9f4c-91ec-4091-9d17-729160fa533f",
   "metadata": {},
   "outputs": [
    {
     "name": "stdout",
     "output_type": "stream",
     "text": [
      "Multiple Comparison of Means - Tukey HSD, FWER=0.05 \n",
      "====================================================\n",
      "group1 group2 meandiff p-adj   lower   upper  reject\n",
      "----------------------------------------------------\n",
      "     1      2      1.5  0.172 -0.4223  3.4223  False\n",
      "     1      3      0.9 0.5931 -1.0223  2.8223  False\n",
      "     1      4     -0.7 0.7612 -2.6223  1.2223  False\n",
      "     2      3     -0.6 0.8347 -2.5223  1.3223  False\n",
      "     2      4     -2.2 0.0196 -4.1223 -0.2777   True\n",
      "     3      4     -1.6 0.1314 -3.5223  0.3223  False\n",
      "----------------------------------------------------\n"
     ]
    }
   ],
   "source": [
    "from statsmodels.stats.multicomp import pairwise_tukeyhsd\n",
    "\n",
    "# Perform Tukey's HSD test on Treatment for AD_Status=1 and AD_Status=2 separately\n",
    "tukey_results = pairwise_tukeyhsd(df['Training'], df['Treatment'])\n",
    "print(tukey_results)\n"
   ]
  },
  {
   "cell_type": "markdown",
   "id": "37e84a34-3035-4b87-8dd3-a9856f49407c",
   "metadata": {},
   "source": [
    "<h1>BONUS 15 PTS</h1>"
   ]
  },
  {
   "cell_type": "markdown",
   "id": "e35b8c56-f42d-49f7-b48a-a12959ac71f0",
   "metadata": {},
   "source": [
    "<h1> CHECKING IF THERE IS SIGNIFICANT OUTLIERS </h1>"
   ]
  },
  {
   "cell_type": "code",
   "execution_count": 10,
   "id": "586c4b5a-e910-4e0b-b359-fa9f8e512bce",
   "metadata": {},
   "outputs": [
    {
     "data": {
      "image/png": "[encoded data removed]",
      "text/plain": [
       "<Figure size 1000x600 with 1 Axes>"
      ]
     },
     "metadata": {},
     "output_type": "display_data"
    }
   ],
   "source": [
    "#checking if there is significant outliers\n",
    "plt.figure(figsize=(10,6))\n",
    "sns.boxplot(x=\"AD_Status\", y=\"Memory\", hue=\"Treatment\", data=df)\n",
    "plt.title('Training Errors by AD Status and Treatment')\n",
    "plt.show()"
   ]
  },
  {
   "cell_type": "markdown",
   "id": "f16628e1-4299-488b-91e0-fe0053315d51",
   "metadata": {},
   "source": [
    "<h1> TESTING THE NORMALITY (USING SHAPIRO) </h1>"
   ]
  },
  {
   "cell_type": "code",
   "execution_count": 14,
   "id": "a6b8ff4f-a0b1-406a-9d65-eaedcf37dd2e",
   "metadata": {},
   "outputs": [
    {
     "name": "stdout",
     "output_type": "stream",
     "text": [
      "   AD_Status  Treatment   p-value\n",
      "0          1          1  0.085693\n",
      "1          1          2  0.777253\n",
      "2          1          3  0.753973\n",
      "3          1          4  0.421150\n",
      "4          2          1  0.045954\n",
      "5          2          2  0.758312\n",
      "6          2          3  0.314040\n",
      "7          2          4  0.753973\n"
     ]
    }
   ],
   "source": [
    "# Group data by AD_Status and Treatment to check normality for each group with sufficient data\n",
    "grouped_data = data.groupby(['AD_Status', 'Treatment'])\n",
    "\n",
    "# Perform Shapiro-Wilk test for groups with at least 3 observations\n",
    "normality_results = []\n",
    "for (status, treatment), group in grouped_data:\n",
    "    if len(group['Memory']) >= 3:  # Only test groups with 3 or more observations\n",
    "        stat, p_value = stats.shapiro(group['Memory'])\n",
    "        normality_results.append((status, treatment, p_value))\n",
    "    else:\n",
    "        normality_results.append((status, treatment, \"Not enough data\"))\n",
    "\n",
    "# Display results\n",
    "normality_results_df = pd.DataFrame(normality_results, columns=['AD_Status', 'Treatment', 'p-value'])\n",
    "print(normality_results_df)\n"
   ]
  },
  {
   "cell_type": "code",
   "execution_count": null,
   "id": "8c959a36-4d31-4cc7-b0f6-0156eb4bfc47",
   "metadata": {},
   "outputs": [],
   "source": []
  }
 ],
 "metadata": {
  "kernelspec": {
   "display_name": "Python 3 (ipykernel)",
   "language": "python",
   "name": "python3"
  },
  "language_info": {
   "codemirror_mode": {
    "name": "ipython",
    "version": 3
   },
   "file_extension": ".py",
   "mimetype": "text/x-python",
   "name": "python",
   "nbconvert_exporter": "python",
   "pygments_lexer": "ipython3",
   "version": "3.12.7"
  }
 },
 "nbformat": 4,
 "nbformat_minor": 5
}
